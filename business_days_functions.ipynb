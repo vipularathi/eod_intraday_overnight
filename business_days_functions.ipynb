{
 "cells": [
  {
   "cell_type": "code",
   "execution_count": null,
   "id": "a781cac4",
   "metadata": {},
   "outputs": [],
   "source": [
    "#using CustomBusinessDay function\n",
    "from pandas.tseries.offsets import BusinessDay\n",
    "from pandas.tseries.offsets import CustomBusinessDay\n",
    "import datetime\n",
    "\n",
    "exp_list = ['07-Jun-24']\n",
    "holidays_24 = ['2024-01-22', '2024-01-26', '2024-03-08', '2024-03-25', '2024-03-29', '2024-04-11', '2024-04-17', '2024-05-01', '2024-05-20', '2024-06-17', '2024-07-17', '2024-08-15', '2024-10-02', '2024-11-01', '2024-11-15', '2024-12-25']\n",
    "# now = datetime.datetime.now()\n",
    "holidays_24 = pd.to_datetime(holidays_24)\n",
    "\n",
    "# format_today = now.date() #use this\n",
    "today_date = datetime.datetime.strptime('30-may-24', '%d-%b-%y').date() #fixing 28 may for now\n",
    "exp_date = datetime.datetime.strptime(exp_list[0], '%d-%b-%y').date()\n",
    "days_left = (exp_date - today_date).days\n",
    "print(f'Number of days left: {days_left}')\n",
    "weekmask = 'Mon Tue Wed Thu Fri'\n",
    "holidays = ['2024-01-20', '2024-03-02', '2024-05-04', '2024-05-18', '2024-06-01', '2024-07-06', '2024-08-03', '2024-09-14', '2024-10-05', '2024-11-09', '2024-12-07']\n",
    "custom_bdays = CustomBusinessDay(weekmask=weekmask, holidays=holidays_24)\n",
    "\n",
    "business_days_left = (exp_date - today_date).days\n",
    "print(f\"Number of business days left: {business_days_left}\")\n",
    "business_days_left = pd.date_range(start = today_date, end = exp_date, freq = custom_bdays)\n",
    "print(f\"Number of business days left: {business_days_left}\")"
   ]
  },
  {
   "cell_type": "code",
   "execution_count": 4,
   "id": "b1ea9278",
   "metadata": {},
   "outputs": [
    {
     "name": "stdout",
     "output_type": "stream",
     "text": [
      "Business days left to expiry: 1\n"
     ]
    }
   ],
   "source": [
    "#using bdate\n",
    "import pandas as pd\n",
    "from datetime import datetime\n",
    "\n",
    "def calc_business_days(today_date, exp_date):\n",
    "    # Define the list of holidays for 2023 and 2024\n",
    "    holidays_23 = ['2023-01-26', '2023-03-07', '2023-03-30', '2023-04-04', '2023-04-07', '2023-04-14', '2023-05-01', '2023-06-29', '2023-08-15', '2023-09-19', '2023-10-02', '2023-10-24', '2023-11-14', '2023-11-27', '2023-12-25']\n",
    "    holidays_24 = ['2024-01-22', '2024-01-26', '2024-03-08', '2024-03-25', '2024-03-29', '2024-04-11', '2024-04-17', '2024-05-01','2024-05-20', '2024-06-17', '2024-07-17', '2024-08-15', '2024-10-02', '2024-11-01', '2024-11-15', '2024-12-25']\n",
    "    holidays = holidays_23 + holidays_24\n",
    "\n",
    "    # Convert string dates to datetime objects\n",
    "    holidays = pd.to_datetime(holidays)\n",
    "\n",
    "    # Define the dates to be excluded from holidays\n",
    "    excluded_dates = ['2024-01-20', '2024-03-02', '2024-05-04', '2024-05-18', '2024-06-01', '2024-07-06', '2024-08-03', '2024-09-14', '2024-10-05', '2024-11-09', '2024-12-07']\n",
    "    excluded_dates = pd.to_datetime(excluded_dates)\n",
    "\n",
    "    # Remove the excluded dates from the holidays list\n",
    "    holidays = holidays[~holidays.isin(excluded_dates)]\n",
    "\n",
    "    # Define expiry date and today's date\n",
    "    exp_date = pd.to_datetime('29-may-24')\n",
    "    today_date = pd.to_datetime('28-may-24')\n",
    "\n",
    "    # Calculate the business days between today_date and exp_date\n",
    "    business_days_left = pd.bdate_range(start=today_date, end=exp_date, holidays=holidays, freq='C', weekmask='1111100')\n",
    "\n",
    "    # The number of business days left to expiry\n",
    "    tte = len(business_days_left) - 1\n",
    "    return tte\n",
    "\n",
    "tte = calc_business_days('28-may-24', '29-may-24')\n",
    "print(\"Business days left to expiry:\", tte)"
   ]
  }
 ],
 "metadata": {
  "kernelspec": {
   "display_name": "Python 3 (ipykernel)",
   "language": "python",
   "name": "python3"
  },
  "language_info": {
   "codemirror_mode": {
    "name": "ipython",
    "version": 3
   },
   "file_extension": ".py",
   "mimetype": "text/x-python",
   "name": "python",
   "nbconvert_exporter": "python",
   "pygments_lexer": "ipython3",
   "version": "3.10.9"
  }
 },
 "nbformat": 4,
 "nbformat_minor": 5
}
