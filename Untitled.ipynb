{
 "cells": [
  {
   "cell_type": "code",
   "execution_count": null,
   "id": "1d5e8b02",
   "metadata": {},
   "outputs": [],
   "source": [
    "import pandas"
   ]
  },
  {
   "cell_type": "code",
   "execution_count": 10,
   "id": "041f5669",
   "metadata": {},
   "outputs": [],
   "source": [
    "sym_list = ['NIFTY', 'BANKNIFTY', 'MIDCPNIFTY', 'FINNIFTY']\n",
    "exp_list = ['13-Jun-24', '12-Jun-24', '10-Jun-24', '11-Jun-24']"
   ]
  },
  {
   "cell_type": "code",
   "execution_count": 11,
   "id": "03dfda25",
   "metadata": {},
   "outputs": [
    {
     "ename": "TypeError",
     "evalue": "unhashable type: 'dict'",
     "output_type": "error",
     "traceback": [
      "\u001b[1;31m---------------------------------------------------------------------------\u001b[0m",
      "\u001b[1;31mTypeError\u001b[0m                                 Traceback (most recent call last)",
      "Cell \u001b[1;32mIn[11], line 1\u001b[0m\n\u001b[1;32m----> 1\u001b[0m prev_day_data \u001b[38;5;241m=\u001b[39m {\n\u001b[0;32m      2\u001b[0m     {\u001b[38;5;124m'\u001b[39m\u001b[38;5;124mNIFTY\u001b[39m\u001b[38;5;124m'\u001b[39m: {\u001b[38;5;124m'\u001b[39m\u001b[38;5;124muse_strike\u001b[39m\u001b[38;5;124m'\u001b[39m: \u001b[38;5;241m22750\u001b[39m, \u001b[38;5;124m'\u001b[39m\u001b[38;5;124mstrd_price\u001b[39m\u001b[38;5;124m'\u001b[39m: \u001b[38;5;241m467.6\u001b[39m, \u001b[38;5;124m'\u001b[39m\u001b[38;5;124mstrd_theta\u001b[39m\u001b[38;5;124m'\u001b[39m: \u001b[38;5;241m4463754\u001b[39m}},\n\u001b[0;32m      3\u001b[0m     {\u001b[38;5;124m'\u001b[39m\u001b[38;5;124mBANKNIFTY\u001b[39m\u001b[38;5;124m'\u001b[39m: {\u001b[38;5;124m'\u001b[39m\u001b[38;5;124muse_strike\u001b[39m\u001b[38;5;124m'\u001b[39m: \u001b[38;5;241m49400\u001b[39m, \u001b[38;5;124m'\u001b[39m\u001b[38;5;124mstrd_price\u001b[39m\u001b[38;5;124m'\u001b[39m: \u001b[38;5;241m1198.3\u001b[39m, \u001b[38;5;124m'\u001b[39m\u001b[38;5;124mstrd_theta\u001b[39m\u001b[38;5;124m'\u001b[39m: \u001b[38;5;241m7417441.376\u001b[39m}},\n\u001b[0;32m      4\u001b[0m     {\u001b[38;5;124m'\u001b[39m\u001b[38;5;124mMIDCPNIFTY\u001b[39m\u001b[38;5;124m'\u001b[39m: {\u001b[38;5;124m'\u001b[39m\u001b[38;5;124muse_strike\u001b[39m\u001b[38;5;124m'\u001b[39m: \u001b[38;5;241m11575\u001b[39m, \u001b[38;5;124m'\u001b[39m\u001b[38;5;124mstrd_price\u001b[39m\u001b[38;5;124m'\u001b[39m: \u001b[38;5;241m201\u001b[39m, \u001b[38;5;124m'\u001b[39m\u001b[38;5;124mstrd_theta\u001b[39m\u001b[38;5;124m'\u001b[39m:  \u001b[38;5;241m4895066\u001b[39m}},\n\u001b[0;32m      5\u001b[0m     {\u001b[38;5;124m'\u001b[39m\u001b[38;5;124mFINNIFTY\u001b[39m\u001b[38;5;124m'\u001b[39m: {\u001b[38;5;124m'\u001b[39m\u001b[38;5;124muse_strike\u001b[39m\u001b[38;5;124m'\u001b[39m: \u001b[38;5;241m21900\u001b[39m, \u001b[38;5;124m'\u001b[39m\u001b[38;5;124mstrd_price\u001b[39m\u001b[38;5;124m'\u001b[39m: \u001b[38;5;241m437.6\u001b[39m, \u001b[38;5;124m'\u001b[39m\u001b[38;5;124mstrd_theta\u001b[39m\u001b[38;5;124m'\u001b[39m:  \u001b[38;5;241m7221288\u001b[39m}}\n\u001b[0;32m      6\u001b[0m }\n",
      "\u001b[1;31mTypeError\u001b[0m: unhashable type: 'dict'"
     ]
    }
   ],
   "source": [
    "prev_day_data = {\n",
    "    {'NIFTY': {'use_strike': 22750, 'strd_price': 467.6, 'strd_theta': 4463754}},\n",
    "    {'BANKNIFTY': {'use_strike': 49400, 'strd_price': 1198.3, 'strd_theta': 7417441.376}},\n",
    "    {'MIDCPNIFTY': {'use_strike': 11575, 'strd_price': 201, 'strd_theta':  4895066}},\n",
    "    {'FINNIFTY': {'use_strike': 21900, 'strd_price': 437.6, 'strd_theta':  7221288}}\n",
    "}"
   ]
  },
  {
   "cell_type": "code",
   "execution_count": 9,
   "id": "7e881ab5",
   "metadata": {},
   "outputs": [
    {
     "name": "stdout",
     "output_type": "stream",
     "text": [
      "22750\n",
      "49400\n",
      "11575\n",
      "21900\n"
     ]
    }
   ],
   "source": [
    "for i in range(len(sym_list)):\n",
    "    sym = sym_list[i]\n",
    "    exp = exp_list[i]\n",
    "    num = i\n",
    "#     name = f'{prev_day_data[sym]} use_strike'\n",
    "#     name = prev_dat_data[sym][\"use_strike\"]\n",
    "    print(prev_day_data[num][sym]['use_strike'])\n",
    "    "
   ]
  },
  {
   "cell_type": "code",
   "execution_count": null,
   "id": "c2f65eab",
   "metadata": {},
   "outputs": [],
   "source": []
  }
 ],
 "metadata": {
  "kernelspec": {
   "display_name": "Python 3 (ipykernel)",
   "language": "python",
   "name": "python3"
  },
  "language_info": {
   "codemirror_mode": {
    "name": "ipython",
    "version": 3
   },
   "file_extension": ".py",
   "mimetype": "text/x-python",
   "name": "python",
   "nbconvert_exporter": "python",
   "pygments_lexer": "ipython3",
   "version": "3.11.5"
  }
 },
 "nbformat": 4,
 "nbformat_minor": 5
}
