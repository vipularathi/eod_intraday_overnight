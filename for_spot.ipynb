{
 "cells": [
  {
   "cell_type": "code",
   "execution_count": 5,
   "id": "98e56b09",
   "metadata": {},
   "outputs": [
    {
     "name": "stdout",
     "output_type": "stream",
     "text": [
      "Requirement already satisfied: Connect in c:\\users\\vipulanand\\appdata\\local\\anaconda3\\lib\\site-packages (0.2)\n"
     ]
    }
   ],
   "source": [
    "!pip install Connect"
   ]
  },
  {
   "cell_type": "code",
   "execution_count": 6,
   "id": "b3b30326",
   "metadata": {},
   "outputs": [
    {
     "ename": "ModuleNotFoundError",
     "evalue": "No module named 'Connect'",
     "output_type": "error",
     "traceback": [
      "\u001b[1;31m---------------------------------------------------------------------------\u001b[0m",
      "\u001b[1;31mModuleNotFoundError\u001b[0m                       Traceback (most recent call last)",
      "Cell \u001b[1;32mIn[6], line 3\u001b[0m\n\u001b[0;32m      1\u001b[0m \u001b[38;5;28;01mfrom\u001b[39;00m \u001b[38;5;21;01mdatetime\u001b[39;00m \u001b[38;5;28;01mimport\u001b[39;00m datetime\n\u001b[0;32m      2\u001b[0m \u001b[38;5;28;01mimport\u001b[39;00m \u001b[38;5;21;01mpandas\u001b[39;00m \u001b[38;5;28;01mas\u001b[39;00m \u001b[38;5;21;01mpd\u001b[39;00m\n\u001b[1;32m----> 3\u001b[0m \u001b[38;5;28;01mfrom\u001b[39;00m \u001b[38;5;21;01mConnect\u001b[39;00m \u001b[38;5;28;01mimport\u001b[39;00m XTSConnect\n\u001b[0;32m      4\u001b[0m \u001b[38;5;28;01mfrom\u001b[39;00m \u001b[38;5;21;01mMarketDataSocketClient\u001b[39;00m \u001b[38;5;28;01mimport\u001b[39;00m MDSocket_io\n\u001b[0;32m      6\u001b[0m \u001b[38;5;66;03m# MarketData API Credentials\u001b[39;00m\n",
      "\u001b[1;31mModuleNotFoundError\u001b[0m: No module named 'Connect'"
     ]
    }
   ],
   "source": [
    "from datetime import datetime\n",
    "import pandas as pd\n",
    "from Connect import XTSConnect\n",
    "from MarketDataSocketClient import MDSocket_io\n",
    "\n",
    "# MarketData API Credentials\n",
    "API_KEY = \"e78a8d7023e841f7913809\"\n",
    "API_SECRET = \"Egya351@Hm\"\n",
    "source= \"WEBAPI\"\n",
    "\n",
    "# Initialise\n",
    "xt = XTSConnect(API_KEY, API_SECRET, source)\n",
    "\n",
    "#login for authorize token\n",
    "response = xt.marketdata_login()\n",
    " \n",
    "\n",
    "#stored the userID and Token\n",
    "set_MarketDataToken = response['result']['token']\n",
    "set_muserID = response['result']['userID']\n",
    "#print(\"Login\",response)\n",
    "response1 = xt.get_ohlc( exchangeSegment=1,\n",
    "    exchangeInstrumentID=2885,\n",
    "    startTime=\"Jun 20 2024 091500\",\n",
    "    endTime=\"Jun 20 2024 153000\",\n",
    "    compressionValue='D')\n",
    "print(response1)"
   ]
  },
  {
   "cell_type": "code",
   "execution_count": 8,
   "id": "4560a601",
   "metadata": {},
   "outputs": [
    {
     "name": "stdout",
     "output_type": "stream",
     "text": [
      "{\"detail\":\"Method Not Allowed\"}\n"
     ]
    }
   ],
   "source": [
    "import requests\n",
    "import json\n",
    " \n",
    "url = \"http://172.16.47.54:8006/livedataname\"\n",
    " \n",
    "payload = json.dumps({\n",
    "  \"spot_flag\": True,\n",
    "  \"esegment\": 1,\n",
    "  \"inst_name\": \"NIFTY\"\n",
    "})\n",
    "headers = {\n",
    "  'accept': 'application/json',\n",
    "  'Content-Type': 'application/json'\n",
    "}\n",
    " \n",
    "response = requests.request(\"POST\", url, headers=headers, data=payload)\n",
    " \n",
    "print(response.text)"
   ]
  }
 ],
 "metadata": {
  "kernelspec": {
   "display_name": "Python 3 (ipykernel)",
   "language": "python",
   "name": "python3"
  },
  "language_info": {
   "codemirror_mode": {
    "name": "ipython",
    "version": 3
   },
   "file_extension": ".py",
   "mimetype": "text/x-python",
   "name": "python",
   "nbconvert_exporter": "python",
   "pygments_lexer": "ipython3",
   "version": "3.11.5"
  }
 },
 "nbformat": 4,
 "nbformat_minor": 5
}
